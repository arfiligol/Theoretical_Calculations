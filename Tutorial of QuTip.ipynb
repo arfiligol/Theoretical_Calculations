{
 "cells": [
  {
   "cell_type": "code",
   "execution_count": 2,
   "metadata": {},
   "outputs": [],
   "source": [
    "from qutip import *\n",
    "\n",
    "import numpy as np\n",
    "import matplotlib.pyplot as plt"
   ]
  },
  {
   "cell_type": "code",
   "execution_count": 3,
   "metadata": {},
   "outputs": [
    {
     "name": "stdout",
     "output_type": "stream",
     "text": [
      "Quantum object: dims=[[1], [1]], shape=(1, 1), type='scalar', dtype=Dense\n",
      "Qobj data =\n",
      "[[nan]]\n"
     ]
    }
   ],
   "source": [
    "print(Qobj())"
   ]
  },
  {
   "cell_type": "code",
   "execution_count": 4,
   "metadata": {},
   "outputs": [
    {
     "name": "stdout",
     "output_type": "stream",
     "text": [
      "Quantum object: dims=[[5], [1]], shape=(5, 1), type='ket', dtype=Dense\n",
      "Qobj data =\n",
      "[[1.]\n",
      " [2.]\n",
      " [3.]\n",
      " [4.]\n",
      " [5.]]\n"
     ]
    }
   ],
   "source": [
    "print(Qobj([[1],[2],[3],[4],[5]]))\n"
   ]
  },
  {
   "cell_type": "code",
   "execution_count": 5,
   "metadata": {},
   "outputs": [
    {
     "name": "stdout",
     "output_type": "stream",
     "text": [
      "Quantum object: dims=[[1], [5]], shape=(1, 5), type='bra', dtype=Dense\n",
      "Qobj data =\n",
      "[[1. 2. 3. 4. 5.]]\n"
     ]
    }
   ],
   "source": [
    "x = np.array([[1, 2, 3, 4, 5]])\n",
    "print(Qobj(x))\n"
   ]
  },
  {
   "cell_type": "code",
   "execution_count": 6,
   "metadata": {},
   "outputs": [
    {
     "name": "stdout",
     "output_type": "stream",
     "text": [
      "Quantum object: dims=[[4], [4]], shape=(4, 4), type='oper', dtype=Dense, isherm=False\n",
      "Qobj data =\n",
      "[[0.82345414 0.51820259 0.43919608 0.2630169 ]\n",
      " [0.89867397 0.40794008 0.95874385 0.47235762]\n",
      " [0.97292441 0.1209792  0.46473127 0.77449306]\n",
      " [0.93307582 0.25855102 0.66198301 0.94666533]]\n"
     ]
    }
   ],
   "source": [
    "r = np.random.rand(4, 4)\n",
    "print(Qobj(r))\n"
   ]
  }
 ],
 "metadata": {
  "kernelspec": {
   "display_name": ".py_env_for_lab",
   "language": "python",
   "name": "python3"
  },
  "language_info": {
   "codemirror_mode": {
    "name": "ipython",
    "version": 3
   },
   "file_extension": ".py",
   "mimetype": "text/x-python",
   "name": "python",
   "nbconvert_exporter": "python",
   "pygments_lexer": "ipython3",
   "version": "3.11.9"
  }
 },
 "nbformat": 4,
 "nbformat_minor": 2
}
